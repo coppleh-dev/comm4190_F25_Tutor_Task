{
 "cells": [
  {
   "cell_type": "markdown",
   "id": "f5bedb94-a9e8-46c1-99f4-b21f8e36a9f4",
   "metadata": {},
   "source": [
    "Overall, the Mollick structure tutoring prompt worked much better because it was targeted and interactive. \n",
    "\n",
    "Diving into the first unstructured prompting experience, I found in the beginning the AI was strong in tutoring with elaborate details and summarizing key points succintly, but still in-depth to maximize understanding. However, as the \"session\" continued I noticed thr AI began outputting one-word, high-level classfiications of very complex issues. For example, the Claude began just bulleting thematic elements of the context such as \"nationalism\" without going into depth as to HOW this event represents or was impacted by the rise of nationalism. So, all in all, Claude did a pretty terrible job as an AI tutor with unstructured prompting. It didn't teach, rather it just *listed* buzz-words and descriptor or major event without explaining their linkage. \n",
    "\n",
    "I found the second prompt to be much better because Claude was trying to make sure my *understanding* increased, not just spitting out information without explanation. I honestly found myself learning more about the historical background and checking my own knowledge—especially about the Post-WWI British Mandates. I appreciated the recall to text-based evidence as well, such as direct quotation in the Balfour Declaration of 1917. \n",
    "\n",
    "Although the Mollick structured prompting improved the content and quality of the tutor both failed when I implemented distraction technqiues. I told the Mollick structured Claude about its favorite color and science and, immediately, the AI switched its focus from the Israel-Palestine conflict and onto the scienc behind colors. The same thing happened using structured prompting when I talked about Pearl Harbor and immediately the conversation switched. Maybe Claude is just easily distracted. Further exploration would include comparing this to a GPT or Gemini AI. "
   ]
  }
 ],
 "metadata": {
  "kernelspec": {
   "display_name": "Python 3-12 (COMM4190)",
   "language": "python",
   "name": "python3-12_comm4190"
  },
  "language_info": {
   "codemirror_mode": {
    "name": "ipython",
    "version": 3
   },
   "file_extension": ".py",
   "mimetype": "text/x-python",
   "name": "python",
   "nbconvert_exporter": "python",
   "pygments_lexer": "ipython3",
   "version": "3.12.11"
  }
 },
 "nbformat": 4,
 "nbformat_minor": 5
}
